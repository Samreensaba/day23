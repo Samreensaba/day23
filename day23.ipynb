{
 "cells": [
  {
   "cell_type": "code",
   "execution_count": 2,
   "id": "f7be72d0-b3bc-4afb-ac85-c650c3293f07",
   "metadata": {},
   "outputs": [
    {
     "name": "stdout",
     "output_type": "stream",
     "text": [
      "Replit Login System\n",
      "\n"
     ]
    },
    {
     "name": "stdin",
     "output_type": "stream",
     "text": [
      "What is your username?:  haj\n",
      "What is your password?:  hajera\n"
     ]
    },
    {
     "name": "stdout",
     "output_type": "stream",
     "text": [
      "Whoops! I don't recognize that username or password. Try again!\n"
     ]
    },
    {
     "name": "stdin",
     "output_type": "stream",
     "text": [
      "What is your username?:  samreen\n",
      "What is your password?:  sam001\n"
     ]
    },
    {
     "name": "stdout",
     "output_type": "stream",
     "text": [
      "Welcome to Peplit!\n"
     ]
    }
   ],
   "source": [
    "print(\"Replit Login System\")\n",
    "print()\n",
    "\n",
    "def loginSystem() :\n",
    "  while True:\n",
    "    userName = input(\"What is your username?: \")\n",
    "    password = input(\"What is your password?: \")\n",
    "    if userName == \"samreen\" and password == \"sam001\":\n",
    "      print(\"Welcome to Peplit!\")\n",
    "      break\n",
    "    else:\n",
    "      print(\"Whoops! I don't recognize that username or password. Try again!\")\n",
    "      continue\n",
    "\n",
    "loginSystem()"
   ]
  },
  {
   "cell_type": "code",
   "execution_count": null,
   "id": "972343ec-e65e-4a57-a26a-d55597ca9e89",
   "metadata": {},
   "outputs": [],
   "source": []
  }
 ],
 "metadata": {
  "kernelspec": {
   "display_name": "Python 3 (ipykernel)",
   "language": "python",
   "name": "python3"
  },
  "language_info": {
   "codemirror_mode": {
    "name": "ipython",
    "version": 3
   },
   "file_extension": ".py",
   "mimetype": "text/x-python",
   "name": "python",
   "nbconvert_exporter": "python",
   "pygments_lexer": "ipython3",
   "version": "3.12.4"
  }
 },
 "nbformat": 4,
 "nbformat_minor": 5
}
